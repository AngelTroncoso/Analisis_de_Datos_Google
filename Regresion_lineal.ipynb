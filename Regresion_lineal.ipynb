{
  "nbformat": 4,
  "nbformat_minor": 0,
  "metadata": {
    "colab": {
      "provenance": [],
      "authorship_tag": "ABX9TyNjgzVd+7E2nC6mj4uEn0gT",
      "include_colab_link": true
    },
    "kernelspec": {
      "name": "python3",
      "display_name": "Python 3"
    },
    "language_info": {
      "name": "python"
    }
  },
  "cells": [
    {
      "cell_type": "markdown",
      "metadata": {
        "id": "view-in-github",
        "colab_type": "text"
      },
      "source": [
        "<a href=\"https://colab.research.google.com/github/AngelTroncoso/Analisis_de_Datos_Google/blob/main/Regresion_lineal.ipynb\" target=\"_parent\"><img src=\"https://colab.research.google.com/assets/colab-badge.svg\" alt=\"Open In Colab\"/></a>"
      ]
    },
    {
      "cell_type": "markdown",
      "source": [
        "#Cargar el conjunto de datos\n",
        "Las primeras líneas de código configuran el entorno de codificación y cargan los datos. Como ya sabrá, puede recurrir a la función import para importar los paquetes necesarios. Utiliza los alias convencionales que necesites. El ejemplo siguiente hace referencia a un conjunto de datos sobre pingüinos disponible a través del paquete seaborn."
      ],
      "metadata": {
        "id": "rBY0f1pcLH5q"
      }
    },
    {
      "cell_type": "code",
      "execution_count": 1,
      "metadata": {
        "colab": {
          "base_uri": "https://localhost:8080/",
          "height": 206
        },
        "id": "-t3C3AipLACn",
        "outputId": "daa3fc60-c1c9-45e7-b905-71020915d696"
      },
      "outputs": [
        {
          "output_type": "execute_result",
          "data": {
            "text/plain": [
              "  species     island  bill_length_mm  bill_depth_mm  flipper_length_mm  \\\n",
              "0  Adelie  Torgersen            39.1           18.7              181.0   \n",
              "1  Adelie  Torgersen            39.5           17.4              186.0   \n",
              "2  Adelie  Torgersen            40.3           18.0              195.0   \n",
              "3  Adelie  Torgersen             NaN            NaN                NaN   \n",
              "4  Adelie  Torgersen            36.7           19.3              193.0   \n",
              "\n",
              "   body_mass_g     sex  \n",
              "0       3750.0    Male  \n",
              "1       3800.0  Female  \n",
              "2       3250.0  Female  \n",
              "3          NaN     NaN  \n",
              "4       3450.0  Female  "
            ],
            "text/html": [
              "\n",
              "  <div id=\"df-5457fdeb-1fc3-4b98-8d1e-e3c79f415c44\" class=\"colab-df-container\">\n",
              "    <div>\n",
              "<style scoped>\n",
              "    .dataframe tbody tr th:only-of-type {\n",
              "        vertical-align: middle;\n",
              "    }\n",
              "\n",
              "    .dataframe tbody tr th {\n",
              "        vertical-align: top;\n",
              "    }\n",
              "\n",
              "    .dataframe thead th {\n",
              "        text-align: right;\n",
              "    }\n",
              "</style>\n",
              "<table border=\"1\" class=\"dataframe\">\n",
              "  <thead>\n",
              "    <tr style=\"text-align: right;\">\n",
              "      <th></th>\n",
              "      <th>species</th>\n",
              "      <th>island</th>\n",
              "      <th>bill_length_mm</th>\n",
              "      <th>bill_depth_mm</th>\n",
              "      <th>flipper_length_mm</th>\n",
              "      <th>body_mass_g</th>\n",
              "      <th>sex</th>\n",
              "    </tr>\n",
              "  </thead>\n",
              "  <tbody>\n",
              "    <tr>\n",
              "      <th>0</th>\n",
              "      <td>Adelie</td>\n",
              "      <td>Torgersen</td>\n",
              "      <td>39.1</td>\n",
              "      <td>18.7</td>\n",
              "      <td>181.0</td>\n",
              "      <td>3750.0</td>\n",
              "      <td>Male</td>\n",
              "    </tr>\n",
              "    <tr>\n",
              "      <th>1</th>\n",
              "      <td>Adelie</td>\n",
              "      <td>Torgersen</td>\n",
              "      <td>39.5</td>\n",
              "      <td>17.4</td>\n",
              "      <td>186.0</td>\n",
              "      <td>3800.0</td>\n",
              "      <td>Female</td>\n",
              "    </tr>\n",
              "    <tr>\n",
              "      <th>2</th>\n",
              "      <td>Adelie</td>\n",
              "      <td>Torgersen</td>\n",
              "      <td>40.3</td>\n",
              "      <td>18.0</td>\n",
              "      <td>195.0</td>\n",
              "      <td>3250.0</td>\n",
              "      <td>Female</td>\n",
              "    </tr>\n",
              "    <tr>\n",
              "      <th>3</th>\n",
              "      <td>Adelie</td>\n",
              "      <td>Torgersen</td>\n",
              "      <td>NaN</td>\n",
              "      <td>NaN</td>\n",
              "      <td>NaN</td>\n",
              "      <td>NaN</td>\n",
              "      <td>NaN</td>\n",
              "    </tr>\n",
              "    <tr>\n",
              "      <th>4</th>\n",
              "      <td>Adelie</td>\n",
              "      <td>Torgersen</td>\n",
              "      <td>36.7</td>\n",
              "      <td>19.3</td>\n",
              "      <td>193.0</td>\n",
              "      <td>3450.0</td>\n",
              "      <td>Female</td>\n",
              "    </tr>\n",
              "  </tbody>\n",
              "</table>\n",
              "</div>\n",
              "    <div class=\"colab-df-buttons\">\n",
              "\n",
              "  <div class=\"colab-df-container\">\n",
              "    <button class=\"colab-df-convert\" onclick=\"convertToInteractive('df-5457fdeb-1fc3-4b98-8d1e-e3c79f415c44')\"\n",
              "            title=\"Convert this dataframe to an interactive table.\"\n",
              "            style=\"display:none;\">\n",
              "\n",
              "  <svg xmlns=\"http://www.w3.org/2000/svg\" height=\"24px\" viewBox=\"0 -960 960 960\">\n",
              "    <path d=\"M120-120v-720h720v720H120Zm60-500h600v-160H180v160Zm220 220h160v-160H400v160Zm0 220h160v-160H400v160ZM180-400h160v-160H180v160Zm440 0h160v-160H620v160ZM180-180h160v-160H180v160Zm440 0h160v-160H620v160Z\"/>\n",
              "  </svg>\n",
              "    </button>\n",
              "\n",
              "  <style>\n",
              "    .colab-df-container {\n",
              "      display:flex;\n",
              "      gap: 12px;\n",
              "    }\n",
              "\n",
              "    .colab-df-convert {\n",
              "      background-color: #E8F0FE;\n",
              "      border: none;\n",
              "      border-radius: 50%;\n",
              "      cursor: pointer;\n",
              "      display: none;\n",
              "      fill: #1967D2;\n",
              "      height: 32px;\n",
              "      padding: 0 0 0 0;\n",
              "      width: 32px;\n",
              "    }\n",
              "\n",
              "    .colab-df-convert:hover {\n",
              "      background-color: #E2EBFA;\n",
              "      box-shadow: 0px 1px 2px rgba(60, 64, 67, 0.3), 0px 1px 3px 1px rgba(60, 64, 67, 0.15);\n",
              "      fill: #174EA6;\n",
              "    }\n",
              "\n",
              "    .colab-df-buttons div {\n",
              "      margin-bottom: 4px;\n",
              "    }\n",
              "\n",
              "    [theme=dark] .colab-df-convert {\n",
              "      background-color: #3B4455;\n",
              "      fill: #D2E3FC;\n",
              "    }\n",
              "\n",
              "    [theme=dark] .colab-df-convert:hover {\n",
              "      background-color: #434B5C;\n",
              "      box-shadow: 0px 1px 3px 1px rgba(0, 0, 0, 0.15);\n",
              "      filter: drop-shadow(0px 1px 2px rgba(0, 0, 0, 0.3));\n",
              "      fill: #FFFFFF;\n",
              "    }\n",
              "  </style>\n",
              "\n",
              "    <script>\n",
              "      const buttonEl =\n",
              "        document.querySelector('#df-5457fdeb-1fc3-4b98-8d1e-e3c79f415c44 button.colab-df-convert');\n",
              "      buttonEl.style.display =\n",
              "        google.colab.kernel.accessAllowed ? 'block' : 'none';\n",
              "\n",
              "      async function convertToInteractive(key) {\n",
              "        const element = document.querySelector('#df-5457fdeb-1fc3-4b98-8d1e-e3c79f415c44');\n",
              "        const dataTable =\n",
              "          await google.colab.kernel.invokeFunction('convertToInteractive',\n",
              "                                                    [key], {});\n",
              "        if (!dataTable) return;\n",
              "\n",
              "        const docLinkHtml = 'Like what you see? Visit the ' +\n",
              "          '<a target=\"_blank\" href=https://colab.research.google.com/notebooks/data_table.ipynb>data table notebook</a>'\n",
              "          + ' to learn more about interactive tables.';\n",
              "        element.innerHTML = '';\n",
              "        dataTable['output_type'] = 'display_data';\n",
              "        await google.colab.output.renderOutput(dataTable, element);\n",
              "        const docLink = document.createElement('div');\n",
              "        docLink.innerHTML = docLinkHtml;\n",
              "        element.appendChild(docLink);\n",
              "      }\n",
              "    </script>\n",
              "  </div>\n",
              "\n",
              "\n",
              "    <div id=\"df-2bb6ab35-b5a8-4274-b7c6-c0798993258d\">\n",
              "      <button class=\"colab-df-quickchart\" onclick=\"quickchart('df-2bb6ab35-b5a8-4274-b7c6-c0798993258d')\"\n",
              "                title=\"Suggest charts\"\n",
              "                style=\"display:none;\">\n",
              "\n",
              "<svg xmlns=\"http://www.w3.org/2000/svg\" height=\"24px\"viewBox=\"0 0 24 24\"\n",
              "     width=\"24px\">\n",
              "    <g>\n",
              "        <path d=\"M19 3H5c-1.1 0-2 .9-2 2v14c0 1.1.9 2 2 2h14c1.1 0 2-.9 2-2V5c0-1.1-.9-2-2-2zM9 17H7v-7h2v7zm4 0h-2V7h2v10zm4 0h-2v-4h2v4z\"/>\n",
              "    </g>\n",
              "</svg>\n",
              "      </button>\n",
              "\n",
              "<style>\n",
              "  .colab-df-quickchart {\n",
              "      --bg-color: #E8F0FE;\n",
              "      --fill-color: #1967D2;\n",
              "      --hover-bg-color: #E2EBFA;\n",
              "      --hover-fill-color: #174EA6;\n",
              "      --disabled-fill-color: #AAA;\n",
              "      --disabled-bg-color: #DDD;\n",
              "  }\n",
              "\n",
              "  [theme=dark] .colab-df-quickchart {\n",
              "      --bg-color: #3B4455;\n",
              "      --fill-color: #D2E3FC;\n",
              "      --hover-bg-color: #434B5C;\n",
              "      --hover-fill-color: #FFFFFF;\n",
              "      --disabled-bg-color: #3B4455;\n",
              "      --disabled-fill-color: #666;\n",
              "  }\n",
              "\n",
              "  .colab-df-quickchart {\n",
              "    background-color: var(--bg-color);\n",
              "    border: none;\n",
              "    border-radius: 50%;\n",
              "    cursor: pointer;\n",
              "    display: none;\n",
              "    fill: var(--fill-color);\n",
              "    height: 32px;\n",
              "    padding: 0;\n",
              "    width: 32px;\n",
              "  }\n",
              "\n",
              "  .colab-df-quickchart:hover {\n",
              "    background-color: var(--hover-bg-color);\n",
              "    box-shadow: 0 1px 2px rgba(60, 64, 67, 0.3), 0 1px 3px 1px rgba(60, 64, 67, 0.15);\n",
              "    fill: var(--button-hover-fill-color);\n",
              "  }\n",
              "\n",
              "  .colab-df-quickchart-complete:disabled,\n",
              "  .colab-df-quickchart-complete:disabled:hover {\n",
              "    background-color: var(--disabled-bg-color);\n",
              "    fill: var(--disabled-fill-color);\n",
              "    box-shadow: none;\n",
              "  }\n",
              "\n",
              "  .colab-df-spinner {\n",
              "    border: 2px solid var(--fill-color);\n",
              "    border-color: transparent;\n",
              "    border-bottom-color: var(--fill-color);\n",
              "    animation:\n",
              "      spin 1s steps(1) infinite;\n",
              "  }\n",
              "\n",
              "  @keyframes spin {\n",
              "    0% {\n",
              "      border-color: transparent;\n",
              "      border-bottom-color: var(--fill-color);\n",
              "      border-left-color: var(--fill-color);\n",
              "    }\n",
              "    20% {\n",
              "      border-color: transparent;\n",
              "      border-left-color: var(--fill-color);\n",
              "      border-top-color: var(--fill-color);\n",
              "    }\n",
              "    30% {\n",
              "      border-color: transparent;\n",
              "      border-left-color: var(--fill-color);\n",
              "      border-top-color: var(--fill-color);\n",
              "      border-right-color: var(--fill-color);\n",
              "    }\n",
              "    40% {\n",
              "      border-color: transparent;\n",
              "      border-right-color: var(--fill-color);\n",
              "      border-top-color: var(--fill-color);\n",
              "    }\n",
              "    60% {\n",
              "      border-color: transparent;\n",
              "      border-right-color: var(--fill-color);\n",
              "    }\n",
              "    80% {\n",
              "      border-color: transparent;\n",
              "      border-right-color: var(--fill-color);\n",
              "      border-bottom-color: var(--fill-color);\n",
              "    }\n",
              "    90% {\n",
              "      border-color: transparent;\n",
              "      border-bottom-color: var(--fill-color);\n",
              "    }\n",
              "  }\n",
              "</style>\n",
              "\n",
              "      <script>\n",
              "        async function quickchart(key) {\n",
              "          const quickchartButtonEl =\n",
              "            document.querySelector('#' + key + ' button');\n",
              "          quickchartButtonEl.disabled = true;  // To prevent multiple clicks.\n",
              "          quickchartButtonEl.classList.add('colab-df-spinner');\n",
              "          try {\n",
              "            const charts = await google.colab.kernel.invokeFunction(\n",
              "                'suggestCharts', [key], {});\n",
              "          } catch (error) {\n",
              "            console.error('Error during call to suggestCharts:', error);\n",
              "          }\n",
              "          quickchartButtonEl.classList.remove('colab-df-spinner');\n",
              "          quickchartButtonEl.classList.add('colab-df-quickchart-complete');\n",
              "        }\n",
              "        (() => {\n",
              "          let quickchartButtonEl =\n",
              "            document.querySelector('#df-2bb6ab35-b5a8-4274-b7c6-c0798993258d button');\n",
              "          quickchartButtonEl.style.display =\n",
              "            google.colab.kernel.accessAllowed ? 'block' : 'none';\n",
              "        })();\n",
              "      </script>\n",
              "    </div>\n",
              "\n",
              "    </div>\n",
              "  </div>\n"
            ],
            "application/vnd.google.colaboratory.intrinsic+json": {
              "type": "dataframe",
              "variable_name": "penguins",
              "summary": "{\n  \"name\": \"penguins\",\n  \"rows\": 344,\n  \"fields\": [\n    {\n      \"column\": \"species\",\n      \"properties\": {\n        \"dtype\": \"category\",\n        \"num_unique_values\": 3,\n        \"samples\": [\n          \"Adelie\",\n          \"Chinstrap\",\n          \"Gentoo\"\n        ],\n        \"semantic_type\": \"\",\n        \"description\": \"\"\n      }\n    },\n    {\n      \"column\": \"island\",\n      \"properties\": {\n        \"dtype\": \"category\",\n        \"num_unique_values\": 3,\n        \"samples\": [\n          \"Torgersen\",\n          \"Biscoe\",\n          \"Dream\"\n        ],\n        \"semantic_type\": \"\",\n        \"description\": \"\"\n      }\n    },\n    {\n      \"column\": \"bill_length_mm\",\n      \"properties\": {\n        \"dtype\": \"number\",\n        \"std\": 5.459583713926532,\n        \"min\": 32.1,\n        \"max\": 59.6,\n        \"num_unique_values\": 164,\n        \"samples\": [\n          48.2,\n          49.8,\n          45.1\n        ],\n        \"semantic_type\": \"\",\n        \"description\": \"\"\n      }\n    },\n    {\n      \"column\": \"bill_depth_mm\",\n      \"properties\": {\n        \"dtype\": \"number\",\n        \"std\": 1.9747931568167816,\n        \"min\": 13.1,\n        \"max\": 21.5,\n        \"num_unique_values\": 80,\n        \"samples\": [\n          16.9,\n          18.7,\n          18.6\n        ],\n        \"semantic_type\": \"\",\n        \"description\": \"\"\n      }\n    },\n    {\n      \"column\": \"flipper_length_mm\",\n      \"properties\": {\n        \"dtype\": \"number\",\n        \"std\": 14.061713679356894,\n        \"min\": 172.0,\n        \"max\": 231.0,\n        \"num_unique_values\": 55,\n        \"samples\": [\n          201.0,\n          180.0,\n          212.0\n        ],\n        \"semantic_type\": \"\",\n        \"description\": \"\"\n      }\n    },\n    {\n      \"column\": \"body_mass_g\",\n      \"properties\": {\n        \"dtype\": \"number\",\n        \"std\": 801.9545356980954,\n        \"min\": 2700.0,\n        \"max\": 6300.0,\n        \"num_unique_values\": 94,\n        \"samples\": [\n          4350.0,\n          4150.0,\n          3525.0\n        ],\n        \"semantic_type\": \"\",\n        \"description\": \"\"\n      }\n    },\n    {\n      \"column\": \"sex\",\n      \"properties\": {\n        \"dtype\": \"category\",\n        \"num_unique_values\": 2,\n        \"samples\": [\n          \"Female\",\n          \"Male\"\n        ],\n        \"semantic_type\": \"\",\n        \"description\": \"\"\n      }\n    }\n  ]\n}"
            }
          },
          "metadata": {},
          "execution_count": 1
        }
      ],
      "source": [
        "# Import packages\n",
        "import pandas as pd\n",
        "import seaborn as sns\n",
        "\n",
        "# Load dataset\n",
        "penguins = sns.load_dataset(\"penguins\")\n",
        "\n",
        "# Examine first 5 rows of dataset\n",
        "penguins.head()"
      ]
    },
    {
      "cell_type": "markdown",
      "source": [
        "#Datos limpios\n",
        "Después de cargar los datos, se limpiaron para crear un subconjunto de datos para los fines de nuestro curso. El ejemplo aísla sólo los pingüinos barbijo del conjunto de datos y elimina las filas con datos que faltan.\n",
        "\n",
        "El índice del marco de datos se restablece mediante la\n",
        "función\n",
        " reset_index(). Cuando se subconjunta un marco de datos, se conservan los índices originales de las filas. Por ejemplo, supongamos que en las filas 2 y 3 hay pingüinos Adelia o Papúa. Al subconjuntar los datos sólo para los pingüinos de barbijo, su nuevo marco de datos aparecería en la fila 1 y luego en la fila 4, ya que se eliminaron las filas 2 y 3. Al restablecer el índice del marco de datos, los números de fila se convierten en filas 1, 2, 3, etc. El Marco de datos se vuelve más fácil de trabajar en el futuro.\n",
        "\n",
        "Revise el código siguiente. Te animamos a que ejecutes el código en tu propio notebook."
      ],
      "metadata": {
        "id": "gp50Cm4MLPHe"
      }
    },
    {
      "cell_type": "code",
      "source": [
        "# Subset just Chinstrap penguins from data set\n",
        "chinstrap_penguins = penguins[penguins[\"species\"] == \"Chinstrap\"]\n",
        "\n",
        "# Reset index of dataframe\n",
        "chinstrap_penguins.reset_index(inplace = True, drop = True)"
      ],
      "metadata": {
        "id": "wEHa5fFuLYo-"
      },
      "execution_count": 2,
      "outputs": []
    },
    {
      "cell_type": "markdown",
      "source": [
        "# Configuración para la construcción del modelo\n",
        "Ahora que los datos están limpios, puede trazarlos y construir un modelo de regresión lineal. En primer lugar, extraiga la variable X, bill_depth_mm, y la variable Y, flipper_length_mm, que son su objetivo."
      ],
      "metadata": {
        "id": "i_YF4LdILej1"
      }
    },
    {
      "cell_type": "code",
      "source": [
        "# Subset Data\n",
        "ols_data = chinstrap_penguins[[\"bill_depth_mm\", \"flipper_length_mm\"]]"
      ],
      "metadata": {
        "id": "S-jozQqhLo3h"
      },
      "execution_count": 3,
      "outputs": []
    },
    {
      "cell_type": "markdown",
      "source": [
        "Como este ejemplo utiliza modelos estadísticos, guarde la fórmula de mínimos cuadrados ordinarios como una cadena para que el ordenador pueda entender cómo ejecutar la regresión. La variable Y, flipper_length_mm va primero, seguida de una tilde y el nombre de la variable X, bill_depth_mm."
      ],
      "metadata": {
        "id": "cACsAe8VLst-"
      }
    },
    {
      "cell_type": "code",
      "source": [
        "# Write out formula\n",
        "ols_formula = \"flipper_length_mm ~ bill_depth_mm\""
      ],
      "metadata": {
        "id": "SQkS7aelLrtr"
      },
      "execution_count": 4,
      "outputs": []
    },
    {
      "cell_type": "markdown",
      "source": [
        "#Construir el modelo\n",
        "Para construir el modelo, primero tendrá que importar la función ols desde la interfaz statsmodels.formula.api"
      ],
      "metadata": {
        "id": "vWYrWJ4fL1BG"
      }
    },
    {
      "cell_type": "code",
      "source": [
        "# Import ols function\n",
        "from statsmodels.formula.api import ols"
      ],
      "metadata": {
        "id": "IrPdhp2mL4_X"
      },
      "execution_count": 5,
      "outputs": []
    },
    {
      "cell_type": "markdown",
      "source": [
        "A continuación, introduce la fórmula y los datos guardados en la función ols. A continuación, utilice el método fit para ajustar el modelo a los datos. Por último, utilice el método summary para obtener los resultados del modelo de regresión."
      ],
      "metadata": {
        "id": "fqQkbdZUL7ou"
      }
    },
    {
      "cell_type": "code",
      "source": [
        "# Build OLS, fit model to data\n",
        "OLS = ols(formula = ols_formula, data = ols_data)\n",
        "model = OLS.fit()\n",
        "model.summary()"
      ],
      "metadata": {
        "colab": {
          "base_uri": "https://localhost:8080/",
          "height": 444
        },
        "id": "-EWceaDwL_JE",
        "outputId": "f37d4920-cd56-4100-805c-4505b0e576e9"
      },
      "execution_count": 6,
      "outputs": [
        {
          "output_type": "execute_result",
          "data": {
            "text/plain": [
              "<class 'statsmodels.iolib.summary.Summary'>\n",
              "\"\"\"\n",
              "                            OLS Regression Results                            \n",
              "==============================================================================\n",
              "Dep. Variable:      flipper_length_mm   R-squared:                       0.337\n",
              "Model:                            OLS   Adj. R-squared:                  0.327\n",
              "Method:                 Least Squares   F-statistic:                     33.48\n",
              "Date:                Mon, 28 Apr 2025   Prob (F-statistic):           2.16e-07\n",
              "Time:                        14:00:40   Log-Likelihood:                -215.62\n",
              "No. Observations:                  68   AIC:                             435.2\n",
              "Df Residuals:                      66   BIC:                             439.7\n",
              "Df Model:                           1                                         \n",
              "Covariance Type:            nonrobust                                         \n",
              "=================================================================================\n",
              "                    coef    std err          t      P>|t|      [0.025      0.975]\n",
              "---------------------------------------------------------------------------------\n",
              "Intercept       128.6967     11.623     11.073      0.000     105.492     151.902\n",
              "bill_depth_mm     3.6441      0.630      5.786      0.000       2.387       4.902\n",
              "==============================================================================\n",
              "Omnibus:                        1.350   Durbin-Watson:                   1.994\n",
              "Prob(Omnibus):                  0.509   Jarque-Bera (JB):                0.837\n",
              "Skew:                          -0.255   Prob(JB):                        0.658\n",
              "Kurtosis:                       3.190   Cond. No.                         303.\n",
              "==============================================================================\n",
              "\n",
              "Notes:\n",
              "[1] Standard Errors assume that the covariance matrix of the errors is correctly specified.\n",
              "\"\"\""
            ],
            "text/html": [
              "<table class=\"simpletable\">\n",
              "<caption>OLS Regression Results</caption>\n",
              "<tr>\n",
              "  <th>Dep. Variable:</th>    <td>flipper_length_mm</td> <th>  R-squared:         </th> <td>   0.337</td>\n",
              "</tr>\n",
              "<tr>\n",
              "  <th>Model:</th>                   <td>OLS</td>        <th>  Adj. R-squared:    </th> <td>   0.327</td>\n",
              "</tr>\n",
              "<tr>\n",
              "  <th>Method:</th>             <td>Least Squares</td>   <th>  F-statistic:       </th> <td>   33.48</td>\n",
              "</tr>\n",
              "<tr>\n",
              "  <th>Date:</th>             <td>Mon, 28 Apr 2025</td>  <th>  Prob (F-statistic):</th> <td>2.16e-07</td>\n",
              "</tr>\n",
              "<tr>\n",
              "  <th>Time:</th>                 <td>14:00:40</td>      <th>  Log-Likelihood:    </th> <td> -215.62</td>\n",
              "</tr>\n",
              "<tr>\n",
              "  <th>No. Observations:</th>      <td>    68</td>       <th>  AIC:               </th> <td>   435.2</td>\n",
              "</tr>\n",
              "<tr>\n",
              "  <th>Df Residuals:</th>          <td>    66</td>       <th>  BIC:               </th> <td>   439.7</td>\n",
              "</tr>\n",
              "<tr>\n",
              "  <th>Df Model:</th>              <td>     1</td>       <th>                     </th>     <td> </td>   \n",
              "</tr>\n",
              "<tr>\n",
              "  <th>Covariance Type:</th>      <td>nonrobust</td>     <th>                     </th>     <td> </td>   \n",
              "</tr>\n",
              "</table>\n",
              "<table class=\"simpletable\">\n",
              "<tr>\n",
              "        <td></td>           <th>coef</th>     <th>std err</th>      <th>t</th>      <th>P>|t|</th>  <th>[0.025</th>    <th>0.975]</th>  \n",
              "</tr>\n",
              "<tr>\n",
              "  <th>Intercept</th>     <td>  128.6967</td> <td>   11.623</td> <td>   11.073</td> <td> 0.000</td> <td>  105.492</td> <td>  151.902</td>\n",
              "</tr>\n",
              "<tr>\n",
              "  <th>bill_depth_mm</th> <td>    3.6441</td> <td>    0.630</td> <td>    5.786</td> <td> 0.000</td> <td>    2.387</td> <td>    4.902</td>\n",
              "</tr>\n",
              "</table>\n",
              "<table class=\"simpletable\">\n",
              "<tr>\n",
              "  <th>Omnibus:</th>       <td> 1.350</td> <th>  Durbin-Watson:     </th> <td>   1.994</td>\n",
              "</tr>\n",
              "<tr>\n",
              "  <th>Prob(Omnibus):</th> <td> 0.509</td> <th>  Jarque-Bera (JB):  </th> <td>   0.837</td>\n",
              "</tr>\n",
              "<tr>\n",
              "  <th>Skew:</th>          <td>-0.255</td> <th>  Prob(JB):          </th> <td>   0.658</td>\n",
              "</tr>\n",
              "<tr>\n",
              "  <th>Kurtosis:</th>      <td> 3.190</td> <th>  Cond. No.          </th> <td>    303.</td>\n",
              "</tr>\n",
              "</table><br/><br/>Notes:<br/>[1] Standard Errors assume that the covariance matrix of the errors is correctly specified."
            ],
            "text/latex": "\\begin{center}\n\\begin{tabular}{lclc}\n\\toprule\n\\textbf{Dep. Variable:}    & flipper\\_length\\_mm & \\textbf{  R-squared:         } &     0.337   \\\\\n\\textbf{Model:}            &         OLS         & \\textbf{  Adj. R-squared:    } &     0.327   \\\\\n\\textbf{Method:}           &    Least Squares    & \\textbf{  F-statistic:       } &     33.48   \\\\\n\\textbf{Date:}             &   Mon, 28 Apr 2025  & \\textbf{  Prob (F-statistic):} &  2.16e-07   \\\\\n\\textbf{Time:}             &       14:00:40      & \\textbf{  Log-Likelihood:    } &   -215.62   \\\\\n\\textbf{No. Observations:} &            68       & \\textbf{  AIC:               } &     435.2   \\\\\n\\textbf{Df Residuals:}     &            66       & \\textbf{  BIC:               } &     439.7   \\\\\n\\textbf{Df Model:}         &             1       & \\textbf{                     } &             \\\\\n\\textbf{Covariance Type:}  &      nonrobust      & \\textbf{                     } &             \\\\\n\\bottomrule\n\\end{tabular}\n\\begin{tabular}{lcccccc}\n                         & \\textbf{coef} & \\textbf{std err} & \\textbf{t} & \\textbf{P$> |$t$|$} & \\textbf{[0.025} & \\textbf{0.975]}  \\\\\n\\midrule\n\\textbf{Intercept}       &     128.6967  &       11.623     &    11.073  &         0.000        &      105.492    &      151.902     \\\\\n\\textbf{bill\\_depth\\_mm} &       3.6441  &        0.630     &     5.786  &         0.000        &        2.387    &        4.902     \\\\\n\\bottomrule\n\\end{tabular}\n\\begin{tabular}{lclc}\n\\textbf{Omnibus:}       &  1.350 & \\textbf{  Durbin-Watson:     } &    1.994  \\\\\n\\textbf{Prob(Omnibus):} &  0.509 & \\textbf{  Jarque-Bera (JB):  } &    0.837  \\\\\n\\textbf{Skew:}          & -0.255 & \\textbf{  Prob(JB):          } &    0.658  \\\\\n\\textbf{Kurtosis:}      &  3.190 & \\textbf{  Cond. No.          } &     303.  \\\\\n\\bottomrule\n\\end{tabular}\n%\\caption{OLS Regression Results}\n\\end{center}\n\nNotes: \\newline\n [1] Standard Errors assume that the covariance matrix of the errors is correctly specified."
          },
          "metadata": {},
          "execution_count": 6
        }
      ]
    },
    {
      "cell_type": "markdown",
      "source": [
        "#Predicciones\n",
        "Utilice el método\n",
        "predict()\n",
        " del modelo, pasándole una matriz que contenga los valores de la(s) variable(s) independiente(s):"
      ],
      "metadata": {
        "id": "gPSC5uy-MGAe"
      }
    },
    {
      "cell_type": "code",
      "source": [
        "predictions = model.predict(chinstrap_penguins[[\"bill_depth_mm\"]])"
      ],
      "metadata": {
        "id": "aMdAPmjjMJo_"
      },
      "execution_count": 7,
      "outputs": []
    },
    {
      "cell_type": "markdown",
      "source": [
        "#Residuales\n",
        "Utilice el atributo resid del modelo:"
      ],
      "metadata": {
        "id": "muEER1ZfMNuA"
      }
    },
    {
      "cell_type": "code",
      "source": [
        "residuals = model.resid"
      ],
      "metadata": {
        "id": "XzWR4RkXMQxH"
      },
      "execution_count": 8,
      "outputs": []
    },
    {
      "cell_type": "code",
      "source": [
        "import pandas as pd\n",
        "from statsmodels.stats.outliers_influence import variance_inflation_factor\n",
        "import numpy as np\n",
        "\n",
        "# Suponiendo que 'pingüinos' es su DataFrame\n",
        "X = penguins[[\"bill_length_mm\", \"bill_depth_mm\", \"flipper_length_mm\"]].copy()  # Creación de una copia para evitar SettingWithCopyWarning\n",
        "# Reemplace valores infinitos por NaN\n",
        "X.replace([np.inf, -np.inf], np.nan, inplace=True)\n",
        "# Quitar filas con los valores que faltan\n",
        "X.dropna(inplace=True)\n",
        "# Calcular VIF\n",
        "vif = [variance_inflation_factor(X.values, i) for i in range(X.shape[1])]\n",
        "vif = zip(X.columns, vif)  # Zip con nombres de columna en lugar de todo el DataFrame\n",
        "print(list(vif))"
      ],
      "metadata": {
        "colab": {
          "base_uri": "https://localhost:8080/"
        },
        "id": "ORCzmJsLs0dX",
        "outputId": "01ff8cc9-b698-4353-da5c-682a61ce6fc7"
      },
      "execution_count": 13,
      "outputs": [
        {
          "output_type": "stream",
          "name": "stdout",
          "text": [
            "[('bill_length_mm', np.float64(114.15567788807301)), ('bill_depth_mm', np.float64(37.030948885319745)), ('flipper_length_mm', np.float64(145.7955929490496))]\n"
          ]
        }
      ]
    },
    {
      "cell_type": "markdown",
      "source": [
        "# Codificación\n",
        "Afortunadamente, no necesita calcular manualmente su estadístico de prueba 𝛸2 o determinar P a mano. Para ello, puede utilizar la\n",
        "función chisquare()\n",
        " del paquete scipy.stats de Python. El siguiente código utiliza sus valores observados y esperados para calcular el estadístico de prueba chi-cuadrado y el Valor P. Tenga en cuenta que los grados de libertad se establecen en el número de frecuencias observadas menos uno. Esto puede ajustarse utilizando el parámetro ddof, pero tenga en cuenta que este parámetro representa k - 1 - ddof grados de libertad, donde k es el número de frecuencias observadas. Así que, por defecto, ddof=0 cuando se llama a la función, y el establecimiento de ddof=1 significa que sus grados de libertad se reducen en dos."
      ],
      "metadata": {
        "id": "2xrJaYahKt4z"
      }
    },
    {
      "cell_type": "code",
      "source": [
        "import scipy.stats as stats\n",
        "observations = [650, 570, 420, 480, 510, 380, 490]\n",
        "expectations = [500, 500, 500, 500, 500, 500, 500]\n",
        "result = stats.chisquare(f_obs=observations, f_exp=expectations)\n",
        "result"
      ],
      "metadata": {
        "colab": {
          "base_uri": "https://localhost:8080/"
        },
        "id": "9nLAfF8kKYMC",
        "outputId": "3264801b-45eb-437c-e0f4-4444e38465f5"
      },
      "execution_count": 1,
      "outputs": [
        {
          "output_type": "execute_result",
          "data": {
            "text/plain": [
              "Power_divergenceResult(statistic=np.float64(97.6), pvalue=np.float64(7.943886923343835e-19))"
            ]
          },
          "metadata": {},
          "execution_count": 1
        }
      ]
    },
    {
      "cell_type": "markdown",
      "source": [
        "# Codificación\n",
        "Puede utilizar la\n",
        "función chi2_contingency()\n",
        " del paquete scipy.stats para obtener el estadístico de prueba 𝛸2 y el Valor P de una prueba deindependencia 𝛸2. La función chi2_contingency() sólo necesita los valores observados; calculará los valores esperados por usted. Aquí está el código Python:"
      ],
      "metadata": {
        "id": "dKzkMEZfKxNq"
      }
    },
    {
      "cell_type": "code",
      "source": [
        "import numpy as np\n",
        "import scipy.stats as stats\n",
        "observations = np.array([[850, 450],[1300, 900]])\n",
        "result = stats.contingency.chi2_contingency(observations, correction=False)\n",
        "result"
      ],
      "metadata": {
        "colab": {
          "base_uri": "https://localhost:8080/"
        },
        "id": "b5S8ko-3K546",
        "outputId": "e73a7659-6c0e-44af-9ce9-42abb11257de"
      },
      "execution_count": 2,
      "outputs": [
        {
          "output_type": "execute_result",
          "data": {
            "text/plain": [
              "Chi2ContingencyResult(statistic=np.float64(13.660757846804358), pvalue=np.float64(0.00021898310129108426), dof=1, expected_freq=array([[ 798.57142857,  501.42857143],\n",
              "       [1351.42857143,  848.57142857]]))"
            ]
          },
          "metadata": {},
          "execution_count": 2
        }
      ]
    }
  ]
}